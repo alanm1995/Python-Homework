{
 "cells": [
  {
   "cell_type": "code",
   "execution_count": 16,
   "metadata": {},
   "outputs": [],
   "source": [
    "from pathlib import Path\n",
    "import csv\n",
    "csvpath = Path(\"./Resources/budget_data.csv\")"
   ]
  },
  {
   "cell_type": "code",
   "execution_count": 17,
   "metadata": {},
   "outputs": [],
   "source": [
    "financial_analysis = {}\n",
    "data_ls = []\n",
    "month_ls = []\n",
    "profit_ls = []\n",
    "revenue_change = []"
   ]
  },
  {
   "cell_type": "code",
   "execution_count": 18,
   "metadata": {},
   "outputs": [],
   "source": [
    "with open(csvpath, \"r\") as csvfile:\n",
    "    csvreader = csv.reader(csvfile, delimiter=\",\")\n",
    "    csv_header = next (csvreader)\n",
    "    Net_Total = 0\n",
    "    \n",
    "    for row in csvreader:\n",
    "        data_ls.append(row)\n",
    "        \n",
    "        "
   ]
  },
  {
   "cell_type": "code",
   "execution_count": 19,
   "metadata": {},
   "outputs": [],
   "source": [
    "for row in data_ls:\n",
    "    month_ls.append(row[0])"
   ]
  },
  {
   "cell_type": "code",
   "execution_count": 20,
   "metadata": {},
   "outputs": [
    {
     "data": {
      "text/plain": [
       "86"
      ]
     },
     "execution_count": 20,
     "metadata": {},
     "output_type": "execute_result"
    }
   ],
   "source": [
    "len(month_ls)"
   ]
  },
  {
   "cell_type": "code",
   "execution_count": 21,
   "metadata": {},
   "outputs": [],
   "source": [
    "for row in data_ls:\n",
    "    profit_ls.append(int(row[1]))"
   ]
  },
  {
   "cell_type": "code",
   "execution_count": 22,
   "metadata": {},
   "outputs": [
    {
     "data": {
      "text/plain": [
       "38382578"
      ]
     },
     "execution_count": 22,
     "metadata": {},
     "output_type": "execute_result"
    }
   ],
   "source": [
    "sum(profit_ls)"
   ]
  },
  {
   "cell_type": "code",
   "execution_count": 23,
   "metadata": {},
   "outputs": [],
   "source": [
    "for row in profit_ls:\n",
    "     for x in range(1, len(profit_ls)):\n",
    "            revenue_change.append((int(profit_ls[x]) - int(profit_ls[x-1])))\n",
    "                                  \n",
    "                                  \n",
    "delta_average = sum(revenue_change) / len(revenue_change)"
   ]
  },
  {
   "cell_type": "code",
   "execution_count": 24,
   "metadata": {},
   "outputs": [
    {
     "data": {
      "text/plain": [
       "-2315.1176470588234"
      ]
     },
     "execution_count": 24,
     "metadata": {},
     "output_type": "execute_result"
    }
   ],
   "source": [
    "delta_average"
   ]
  },
  {
   "cell_type": "code",
   "execution_count": 25,
   "metadata": {},
   "outputs": [],
   "source": [
    "greatest_increase = max(revenue_change)\n",
    "greatest_decrease = min(revenue_change)"
   ]
  },
  {
   "cell_type": "code",
   "execution_count": 36,
   "metadata": {},
   "outputs": [
    {
     "data": {
      "text/plain": [
       "1926159"
      ]
     },
     "execution_count": 36,
     "metadata": {},
     "output_type": "execute_result"
    }
   ],
   "source": [
    "greatest_increase "
   ]
  },
  {
   "cell_type": "code",
   "execution_count": 37,
   "metadata": {},
   "outputs": [
    {
     "data": {
      "text/plain": [
       "-2196167"
      ]
     },
     "execution_count": 37,
     "metadata": {},
     "output_type": "execute_result"
    }
   ],
   "source": [
    "greatest_decrease"
   ]
  },
  {
   "cell_type": "code",
   "execution_count": 38,
   "metadata": {},
   "outputs": [
    {
     "name": "stdout",
     "output_type": "stream",
     "text": [
      "Financial Analysis\n",
      "....................................................................................\n",
      "Total months: 86\n",
      "Total: $38382578\n",
      "Average change: $-2315.1176470588234\n",
      "Greatest Increase: $1926159\n",
      "Greatest Decrease: $-2196167\n"
     ]
    }
   ],
   "source": [
    "initial_greeting = print(\"Financial Analysis\")\n",
    "break_line = print(\"....................................................................................\")\n",
    "total_months = print(\"Total months: \" + str(len(month_ls)))\n",
    "print(\"Total: \" + \"$\" + str(sum(profit_ls)))\n",
    "print(\"Average change: \" + \"$\" + str(delta_average))\n",
    "print(\"Greatest Increase: \" + \"$\" + str(greatest_increase))\n",
    "print(\"Greatest Decrease: \" + \"$\" + str(greatest_decrease))"
   ]
  },
  {
   "cell_type": "code",
   "execution_count": 41,
   "metadata": {},
   "outputs": [],
   "source": [
    "file = open(\"output.txt\",\"w\")\n",
    "file.write(\"Financial analysis\" + \"\\n\")\n",
    "file.write(\"....................................................................................\" + \"\\n\")\n",
    "file.write(\"Total months: \" + str(len(month_ls)) + \"\\n\")\n",
    "file.write(\"Total: \" + \"$\" + str(sum(profit_ls)) + \"\\n\")\n",
    "file.write(\"Average change: \" + \"$\" + str(delta_average) +\"\\n\")\n",
    "file.write(\"Greatest Increase: \" + \"$\" + str(greatest_increase) +\"\\n\")\n",
    "file.write(\"Greatest Decrease: \" + \"$\" + str(greatest_decrease) +\"\\n\")\n",
    "file.close()"
   ]
  },
  {
   "cell_type": "code",
   "execution_count": null,
   "metadata": {},
   "outputs": [],
   "source": []
  },
  {
   "cell_type": "code",
   "execution_count": null,
   "metadata": {},
   "outputs": [],
   "source": []
  },
  {
   "cell_type": "code",
   "execution_count": null,
   "metadata": {},
   "outputs": [],
   "source": []
  }
 ],
 "metadata": {
  "kernelspec": {
   "display_name": "Python 3",
   "language": "python",
   "name": "python3"
  },
  "language_info": {
   "codemirror_mode": {
    "name": "ipython",
    "version": 3
   },
   "file_extension": ".py",
   "mimetype": "text/x-python",
   "name": "python",
   "nbconvert_exporter": "python",
   "pygments_lexer": "ipython3",
   "version": "3.7.4"
  }
 },
 "nbformat": 4,
 "nbformat_minor": 4
}
