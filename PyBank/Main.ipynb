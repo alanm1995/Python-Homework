{
 "cells": [
  {
   "cell_type": "code",
   "execution_count": 18,
   "metadata": {},
   "outputs": [],
   "source": [
    "from pathlib import Path\n",
    "import csv\n",
    "csvpath = Path(\"./Resources/budget_data.csv\")"
   ]
  },
  {
   "cell_type": "code",
   "execution_count": 19,
   "metadata": {},
   "outputs": [],
   "source": [
    "financial_analysis = {}\n",
    "data_ls = []\n",
    "month_ls = []\n",
    "profit_ls = []"
   ]
  },
  {
   "cell_type": "code",
   "execution_count": 20,
   "metadata": {},
   "outputs": [],
   "source": [
    "with open(csvpath, \"r\") as csvfile:\n",
    "    csvreader = csv.reader(csvfile, delimiter=\",\")\n",
    "    csv_header = next (csvreader)\n",
    "    Net_Total = 0\n",
    "    \n",
    "    for row in csvreader:\n",
    "        data_ls.append(row)\n",
    "        \n",
    "        "
   ]
  },
  {
   "cell_type": "code",
   "execution_count": 21,
   "metadata": {},
   "outputs": [],
   "source": [
    "for row in data_ls:\n",
    "    month_ls.append(row[0])"
   ]
  },
  {
   "cell_type": "code",
   "execution_count": 22,
   "metadata": {},
   "outputs": [
    {
     "data": {
      "text/plain": [
       "86"
      ]
     },
     "execution_count": 22,
     "metadata": {},
     "output_type": "execute_result"
    }
   ],
   "source": [
    "len(month_ls)"
   ]
  },
  {
   "cell_type": "code",
   "execution_count": 23,
   "metadata": {},
   "outputs": [],
   "source": [
    "for row in data_ls:\n",
    "    profit_ls.append(row[1])"
   ]
  },
  {
   "cell_type": "code",
   "execution_count": 24,
   "metadata": {},
   "outputs": [
    {
     "data": {
      "text/plain": [
       "['867884',\n",
       " '984655',\n",
       " '322013',\n",
       " '-69417',\n",
       " '310503',\n",
       " '522857',\n",
       " '1033096',\n",
       " '604885',\n",
       " '-216386',\n",
       " '477532',\n",
       " '893810',\n",
       " '-80353',\n",
       " '779806',\n",
       " '-335203',\n",
       " '697845',\n",
       " '793163',\n",
       " '485070',\n",
       " '584122',\n",
       " '62729',\n",
       " '668179',\n",
       " '899906',\n",
       " '834719',\n",
       " '132003',\n",
       " '309978',\n",
       " '-755566',\n",
       " '1170593',\n",
       " '252788',\n",
       " '1151518',\n",
       " '817256',\n",
       " '570757',\n",
       " '506702',\n",
       " '-1022534',\n",
       " '475062',\n",
       " '779976',\n",
       " '144175',\n",
       " '542494',\n",
       " '359333',\n",
       " '321469',\n",
       " '67780',\n",
       " '471435',\n",
       " '565603',\n",
       " '872480',\n",
       " '789480',\n",
       " '999942',\n",
       " '-1196225',\n",
       " '268997',\n",
       " '-687986',\n",
       " '1150461',\n",
       " '682458',\n",
       " '617856',\n",
       " '824098',\n",
       " '581943',\n",
       " '132864',\n",
       " '448062',\n",
       " '689161',\n",
       " '800701',\n",
       " '1166643',\n",
       " '947333',\n",
       " '578668',\n",
       " '988505',\n",
       " '1139715',\n",
       " '1029471',\n",
       " '687533',\n",
       " '-524626',\n",
       " '158620',\n",
       " '87795',\n",
       " '423389',\n",
       " '840723',\n",
       " '568529',\n",
       " '332067',\n",
       " '989499',\n",
       " '778237',\n",
       " '650000',\n",
       " '-1100387',\n",
       " '-174946',\n",
       " '757143',\n",
       " '445709',\n",
       " '712961',\n",
       " '-1163797',\n",
       " '569899',\n",
       " '768450',\n",
       " '102685',\n",
       " '795914',\n",
       " '60988',\n",
       " '138230',\n",
       " '671099']"
      ]
     },
     "execution_count": 24,
     "metadata": {},
     "output_type": "execute_result"
    }
   ],
   "source": [
    "profit_ls"
   ]
  },
  {
   "cell_type": "code",
   "execution_count": null,
   "metadata": {},
   "outputs": [],
   "source": [
    "for row profit_ls"
   ]
  }
 ],
 "metadata": {
  "kernelspec": {
   "display_name": "Python 3",
   "language": "python",
   "name": "python3"
  },
  "language_info": {
   "codemirror_mode": {
    "name": "ipython",
    "version": 3
   },
   "file_extension": ".py",
   "mimetype": "text/x-python",
   "name": "python",
   "nbconvert_exporter": "python",
   "pygments_lexer": "ipython3",
   "version": "3.7.4"
  }
 },
 "nbformat": 4,
 "nbformat_minor": 4
}
